{
 "cells": [
  {
   "cell_type": "markdown",
   "metadata": {},
   "source": [
    "# Ranging and Ransac\n",
    "\n",
    "We'll use the following imports:"
   ]
  },
  {
   "cell_type": "code",
   "execution_count": 1,
   "metadata": {},
   "outputs": [],
   "source": [
    "import numpy as np\n",
    "from matplotlib import pyplot as plt\n",
    "from sklearn import linear_model"
   ]
  },
  {
   "cell_type": "markdown",
   "metadata": {},
   "source": [
    "If you get an error from importing sklearn, then you will have to install it using:\n",
    "conda install scikit-learn"
   ]
  },
  {
   "cell_type": "markdown",
   "metadata": {},
   "source": [
    "For the exercise we will be using the data taken from a lidar by a robot in a hallway. The data is saved in \"laser.csv\" and we can import this in Python using numpy as such:"
   ]
  },
  {
   "cell_type": "code",
   "execution_count": 42,
   "metadata": {},
   "outputs": [
    {
     "data": {
      "text/plain": [
       "array([ 0.        ,  0.        ,  0.        ,  0.        ,  0.        ,\n",
       "        0.        ,  0.        ,  0.        ,  0.        ,  0.        ,\n",
       "        6.36999989, 29.95999908, 29.95999908,  5.44999981,  5.38999987,\n",
       "        5.4000001 ,  5.40999985,  5.42999983,  5.42999983,  4.44999981,\n",
       "        4.21000004,  4.09000015,  3.96000004,  3.8499999 ,  3.73000002,\n",
       "        3.61999989,  3.52999997,  3.3599999 ,  3.30999994,  3.28999996,\n",
       "        3.18000007,  3.0999999 ,  3.03999996,  2.97000003,  2.9000001 ,\n",
       "        2.8499999 ,  2.77999997,  2.73000002, 30.        , 30.        ,\n",
       "       30.        , 30.        , 30.        ,  1.17916739,  1.19880605,\n",
       "        1.1814369 ,  1.19648015,  1.21871912,  1.22393298,  1.24334586,\n",
       "        1.23733234,  1.25529099,  1.26472497, 30.        , 30.        ,\n",
       "       30.        ,  2.45000005,  2.46000004,  2.48000002,  2.48000002,\n",
       "        2.49000001,  2.5       ,  2.50999999,  2.5       ,  2.51999998,\n",
       "        2.5       ,  2.51999998,  2.47000003, 30.        ,  2.49000001,\n",
       "        4.46000004,  4.46000004,  4.05999994,  4.05000019,  4.03999996,\n",
       "        4.07000017, 29.95999908, 29.95999908, 29.95999908, 30.        ,\n",
       "       30.        , 30.        ,  1.47000003,  1.45000005,  1.45000005,\n",
       "        1.44000006,  1.41999996,  1.40999997,  1.39999998,  1.38999999,\n",
       "        1.38999999,  1.38      ,  1.36000001,  1.36000001,  1.35000002,\n",
       "        1.33000004,  1.33000004,  1.30999994,  1.32000005,  1.2911526 ,\n",
       "        1.29029036,  1.28354311,  1.27874267,  1.27175629,  1.26687086,\n",
       "        1.25012124,  1.25846934,  1.24402452,  1.23471546,  1.23106873,\n",
       "        1.21955633,  1.20668411,  1.20572948,  1.20537341,  1.2091893 ,\n",
       "        1.20000708,  1.19160891,  1.18677771,  1.17675173,  1.16577625,\n",
       "        1.17058361,  1.17318869,  1.14725637,  1.16430271,  1.16212165,\n",
       "        1.14560223,  1.13663507,  1.14241254,  1.13532722,  1.13161922,\n",
       "        1.13856518,  1.13061774,  1.12016249,  1.1223079 ,  1.12737405,\n",
       "        1.12203336,  1.10742915,  1.1108433 ,  1.11105788,  1.0971446 ,\n",
       "        1.10691202,  1.09561408,  1.09882867,  1.09764147,  1.08598757,\n",
       "        1.10301793,  1.09264851,  1.09259641,  1.09479558,  1.09440029,\n",
       "        1.08337271,  1.08037925,  1.07258904,  1.075629  ,  1.07968199,\n",
       "        1.06971061,  1.05623114,  1.08131707,  1.07712328,  1.06655848,\n",
       "        1.0679363 ,  1.08068848,  1.08217621,  1.07309878,  1.06799638,\n",
       "        1.07455015,  1.08013201,  1.07042551,  1.07039356,  1.06618989,\n",
       "        1.06256986,  1.07230556,  1.06680393,  1.05639851,  1.06494689,\n",
       "        1.05779123,  1.07441652,  1.06259537,  1.06538773,  1.06421196,\n",
       "        1.07199574,  1.07376039,  1.07959127,  1.07958472,  1.07438934,\n",
       "        1.0842731 ,  1.07429528,  1.07562053,  1.08059013,  1.07641852,\n",
       "        1.07717907,  1.08352637,  1.10210693,  1.08435524,  1.09162498,\n",
       "        1.09510326,  1.10390532,  1.09675694,  1.10052872,  1.09929883,\n",
       "        1.10794675,  1.11809862,  1.09660435,  1.10975063,  1.1194973 ,\n",
       "        1.11655128,  1.1225419 ,  1.11891377,  1.13414669,  1.1129297 ,\n",
       "        1.13812578,  1.14114237,  1.14169002,  1.142717  ,  1.15572703,\n",
       "        1.16107929,  1.16199005,  1.16502225,  1.17169976,  1.16758001,\n",
       "        1.16644084,  1.18387878,  1.17610633,  1.18354774,  1.19323409,\n",
       "        1.19273138,  1.21365106,  1.21213937,  1.21448839,  1.22917974,\n",
       "        1.22643805,  1.22743511,  1.25227845,  1.24804235,  1.26218569,\n",
       "        1.25677562,  1.2695936 ,  1.27972758,  1.29068935,  1.29874027,\n",
       "        1.30999994,  1.30999994,  1.30999994,  1.33000004,  1.34000003,\n",
       "        1.34000003,  1.34000003,  1.36000001,  1.37      ,  1.38      ,\n",
       "        1.38      ,  1.39999998,  1.40999997,  1.41999996,  1.42999995,\n",
       "        1.44000006,  1.45000005,  1.47000003,  1.48000002,  1.49000001,\n",
       "        1.50999999,  1.51999998,  1.53999996,  1.54999995, 29.95999908,\n",
       "       29.95999908, 29.95999908, 29.95999908, 29.95999908, 29.95999908,\n",
       "       29.95999908, 29.95999908, 29.95999908,  2.58999991,  2.55999994,\n",
       "        2.55999994,  2.5999999 ,  2.6400001 ,  2.66000009,  2.66000009,\n",
       "        2.6400001 ,  2.63000011,  2.6099999 ,  2.5999999 ,  2.57999992,\n",
       "        2.55999994,  2.55999994,  2.53999996,  2.51999998,  2.50999999,\n",
       "        2.5       ,  2.49000001,  2.46000004,  2.47000003,  2.46000004,\n",
       "        2.44000006,  2.43000007,  2.42000008,  2.44000006,  2.49000001,\n",
       "        2.53999996,  2.57999992,  2.63000011,  2.69000006,  2.74000001,\n",
       "        2.79999995,  2.8499999 ,  2.91000009,  2.97000003,  3.03999996,\n",
       "        3.1099999 ,  3.18000007,  3.26999998,  3.3499999 ,  3.46000004,\n",
       "        3.66000009,  3.75999999,  3.86999989,  3.98000002,  4.11000013,\n",
       "        4.23999977,  4.40999985,  4.44000006,  4.73999977,  5.53000021,\n",
       "        5.51999998,  5.51000023,  5.44999981,  5.48999977,  5.75      ,\n",
       "        6.03000021,  6.4000001 ,  6.59000015, 29.95999908,  7.53999996,\n",
       "       29.95999908,  8.60000038,  9.47000027,  9.60999966,  9.61999989,\n",
       "        9.60000038,  9.60000038,  9.59000015,  9.60999966,  9.64999962,\n",
       "        9.68000031, 29.95999908, 15.98999977, 15.98999977, 15.97999954,\n",
       "       15.97999954, 15.97999954, 15.97000027, 15.97999954,  9.65999985,\n",
       "        9.65999985,  9.65999985,  9.67000008, 16.02000046, 16.01000023,\n",
       "       29.95999908,  9.68999958,  9.68999958,  9.64000034,  9.63000011,\n",
       "        9.61999989,  9.17000008,  8.64999962,  8.60999966,  7.92000008,\n",
       "        7.21000004,  6.86999989,  6.55000019,  6.28000021,  6.03000021,\n",
       "        5.76000023,  5.55999994,  5.34000015,  5.13999987,  4.96000004,\n",
       "        4.80000019,  4.63999987,  4.5       ,  4.36000013,  4.23999977,\n",
       "        4.11999989,  4.        ,  3.91000009,  3.78999996,  3.71000004,\n",
       "        3.6099999 ,  3.51999998,  3.44000006,  3.3499999 ,  3.27999997,\n",
       "        3.20000005,  3.1400001 ,  3.07999992,  3.01999998,  2.95000005,\n",
       "        2.9000001 ,  2.83999991,  2.78999996,  2.75      ,  2.70000005,\n",
       "        2.66000009,  2.6099999 ,  2.56999993,  2.52999997,  2.48000002,\n",
       "        2.45000005,  2.41000009,  2.36999989,  2.32999992,  2.30999994,\n",
       "        2.26999998,  2.24000001,  2.21000004,  2.19000006,  2.16000009,\n",
       "        2.13000011,  2.0999999 ,  2.06999993,  2.03999996,  2.01999998,\n",
       "        2.        ,  1.98000002,  1.95000005,  1.92999995,  1.89999998,\n",
       "        1.88      ,  1.86000001,  1.85000002,  1.83000004,  1.80999994,\n",
       "        1.79999995,  1.76999998,  1.75999999,  1.75      ,  1.73000002,\n",
       "        1.71000004,  1.69000006,  1.66999996,  1.66999996,  1.64999998,\n",
       "        1.63      ,  1.63      ,  1.61000001,  1.60000002,  1.58000004,\n",
       "        1.58000004,  1.54999995,  1.53999996,  1.53999996,  1.52999997,\n",
       "        1.50999999,  1.5       ,  1.48000002,  1.48000002,  1.47000003,\n",
       "        1.45000005,  1.47000003,  1.42999995,  1.42999995,  1.42999995,\n",
       "        1.41999996,  1.40999997,  1.39999998,  1.39999998,  1.38      ,\n",
       "        1.37      ,  1.37      ,  1.36000001,  1.35000002,  1.36000001,\n",
       "        1.34000003,  1.33000004,  1.33000004,  1.33000004,  1.30999994,\n",
       "        1.32000005,  1.30999994,  1.29765725,  1.30381513,  1.28488266,\n",
       "        1.29434717,  1.28153217,  1.27560985,  1.27042651,  1.25852227,\n",
       "        1.25563216,  1.25712645,  1.26110232,  1.24707305,  1.21600533,\n",
       "        1.24220872,  1.23562086,  1.23423934,  1.23994017,  1.22427189,\n",
       "        1.23137856,  1.21942842,  1.20845163,  1.21281672,  1.21186352,\n",
       "        1.20573008,  1.19585907,  1.20904911,  1.19750571,  1.19045269,\n",
       "        1.20377672,  1.18319499,  1.19419301,  1.18643403,  1.1720103 ,\n",
       "        1.1740756 ,  1.17578113,  1.17854238,  1.16468549,  1.17120779,\n",
       "        1.17206466,  1.14531767,  1.17333424,  1.168167  ,  1.15739059,\n",
       "        1.16433954,  1.15537572,  1.14801145,  1.16357887,  1.16031587,\n",
       "        1.13728333,  0.        ,  0.        ,  0.        ,  0.        ,\n",
       "        0.        ,  0.        ,  0.        ,  0.        ,  0.        ,\n",
       "        0.        ])"
      ]
     },
     "execution_count": 42,
     "metadata": {},
     "output_type": "execute_result"
    }
   ],
   "source": [
    "laser = np.genfromtxt('laser.csv', delimiter=',')\n"
   ]
  },
  {
   "cell_type": "markdown",
   "metadata": {},
   "source": [
    "The file contains only a single rotation of the lidar. You can open the file in any text editor to get a look at the data. Each number in the file is the distance measured in meters. The lidar starts measuring at 135 degrees and ends at -135 degrees and it rotates the same amount between each measurement. \n",
    "\n",
    "## Exercise 3.1\n",
    "Convert the data in the csv file to x and y coordinates in a Carthesian coordinate system and plot the result using matplotlib.\n",
    "\n",
    "Hint: Use plt.scatter instead of plt.plot in order to show every measurement as a point. "
   ]
  },
  {
   "cell_type": "code",
   "execution_count": 52,
   "metadata": {},
   "outputs": [
    {
     "data": {
      "text/plain": [
       "array([[-0., -0., -0., ..., -0., -0., -0.],\n",
       "       [ 0.,  0.,  0., ..., -0., -0., -0.]])"
      ]
     },
     "execution_count": 52,
     "metadata": {},
     "output_type": "execute_result"
    },
    {
     "data": {
      "image/png": "[encoded data removed]",
      "text/plain": [
       "<Figure size 432x288 with 1 Axes>"
      ]
     },
     "metadata": {
      "needs_background": "light"
     },
     "output_type": "display_data"
    }
   ],
   "source": [
    "# Convert to x and y coordinates\n",
    "\n",
    "def pol2cart(rho, phi):\n",
    "    x = rho * np.cos(phi)\n",
    "    y = rho * np.sin(phi)\n",
    "    return [x, y]\n",
    "\n",
    "x = np.zeros_like(laser)\n",
    "y = np.zeros_like(laser)\n",
    "\n",
    "\n",
    "\n",
    "deg = np.linspace(135,-135,len(laser))\n",
    "\n",
    "for i in range(len(laser)):\n",
    "    xy = pol2cart(laser[i],np.deg2rad(deg[i]))\n",
    "    x[i] = xy[0]\n",
    "    y[i] = xy[1]\n",
    "\n",
    "cord = np.vstack((x,y))\n",
    "\n",
    "plt.scatter(x,y)\n",
    "cord"
   ]
  },
  {
   "cell_type": "markdown",
   "metadata": {},
   "source": [
    "## Exercise 3.2\n",
    "\n",
    "We would like to locate one of the walls in the dataset. To do so we will use Ransac to fine the best line fit in the noisy data. A Ransac regressor is initialized the following way using sklearn:"
   ]
  },
  {
   "cell_type": "code",
   "execution_count": 23,
   "metadata": {},
   "outputs": [],
   "source": [
    "ransac = linear_model.RANSACRegressor()"
   ]
  },
  {
   "cell_type": "markdown",
   "metadata": {},
   "source": [
    "Now that we have our Ransac regressor we can fit it to a dataset (x,y):"
   ]
  },
  {
   "cell_type": "code",
   "execution_count": 56,
   "metadata": {},
   "outputs": [
    {
     "ename": "ValueError",
     "evalue": "`min_samples` may not be larger than number of samples: n_samples = 1.",
     "output_type": "error",
     "traceback": [
      "\u001b[1;31m---------------------------------------------------------------------------\u001b[0m",
      "\u001b[1;31mValueError\u001b[0m                                Traceback (most recent call last)",
      "\u001b[1;32mc:\\Users\\test\\git\\Exercises-in-Perception-Group-2\\Week 4\\Exercise 3 - Ranging.ipynb Cell 11'\u001b[0m in \u001b[0;36m<module>\u001b[1;34m\u001b[0m\n\u001b[1;32m----> <a href='vscode-notebook-cell:/c%3A/Users/test/git/Exercises-in-Perception-Group-2/Week%204/Exercise%203%20-%20Ranging.ipynb#ch0000010?line=0'>1</a>\u001b[0m ransac\u001b[39m.\u001b[39;49mfit(np\u001b[39m.\u001b[39;49marray([x]),np\u001b[39m.\u001b[39;49marray([y]))\n",
      "File \u001b[1;32m~\\anaconda3\\envs\\percep\\lib\\site-packages\\sklearn\\linear_model\\_ransac.py:337\u001b[0m, in \u001b[0;36mRANSACRegressor.fit\u001b[1;34m(self, X, y, sample_weight)\u001b[0m\n\u001b[0;32m    <a href='file:///~/anaconda3/envs/percep/lib/site-packages/sklearn/linear_model/_ransac.py?line=334'>335</a>\u001b[0m     \u001b[39mraise\u001b[39;00m \u001b[39mValueError\u001b[39;00m(\u001b[39m\"\u001b[39m\u001b[39mValue for `min_samples` must be scalar and positive.\u001b[39m\u001b[39m\"\u001b[39m)\n\u001b[0;32m    <a href='file:///~/anaconda3/envs/percep/lib/site-packages/sklearn/linear_model/_ransac.py?line=335'>336</a>\u001b[0m \u001b[39mif\u001b[39;00m min_samples \u001b[39m>\u001b[39m X\u001b[39m.\u001b[39mshape[\u001b[39m0\u001b[39m]:\n\u001b[1;32m--> <a href='file:///~/anaconda3/envs/percep/lib/site-packages/sklearn/linear_model/_ransac.py?line=336'>337</a>\u001b[0m     \u001b[39mraise\u001b[39;00m \u001b[39mValueError\u001b[39;00m(\n\u001b[0;32m    <a href='file:///~/anaconda3/envs/percep/lib/site-packages/sklearn/linear_model/_ransac.py?line=337'>338</a>\u001b[0m         \u001b[39m\"\u001b[39m\u001b[39m`min_samples` may not be larger than number \u001b[39m\u001b[39m\"\u001b[39m\n\u001b[0;32m    <a href='file:///~/anaconda3/envs/percep/lib/site-packages/sklearn/linear_model/_ransac.py?line=338'>339</a>\u001b[0m         \u001b[39m\"\u001b[39m\u001b[39mof samples: n_samples = \u001b[39m\u001b[39m%d\u001b[39;00m\u001b[39m.\u001b[39m\u001b[39m\"\u001b[39m \u001b[39m%\u001b[39m (X\u001b[39m.\u001b[39mshape[\u001b[39m0\u001b[39m])\n\u001b[0;32m    <a href='file:///~/anaconda3/envs/percep/lib/site-packages/sklearn/linear_model/_ransac.py?line=339'>340</a>\u001b[0m     )\n\u001b[0;32m    <a href='file:///~/anaconda3/envs/percep/lib/site-packages/sklearn/linear_model/_ransac.py?line=341'>342</a>\u001b[0m \u001b[39mif\u001b[39;00m \u001b[39mself\u001b[39m\u001b[39m.\u001b[39mstop_probability \u001b[39m<\u001b[39m \u001b[39m0\u001b[39m \u001b[39mor\u001b[39;00m \u001b[39mself\u001b[39m\u001b[39m.\u001b[39mstop_probability \u001b[39m>\u001b[39m \u001b[39m1\u001b[39m:\n\u001b[0;32m    <a href='file:///~/anaconda3/envs/percep/lib/site-packages/sklearn/linear_model/_ransac.py?line=342'>343</a>\u001b[0m     \u001b[39mraise\u001b[39;00m \u001b[39mValueError\u001b[39;00m(\u001b[39m\"\u001b[39m\u001b[39m`stop_probability` must be in range [0, 1].\u001b[39m\u001b[39m\"\u001b[39m)\n",
      "\u001b[1;31mValueError\u001b[0m: `min_samples` may not be larger than number of samples: n_samples = 1."
     ]
    }
   ],
   "source": [
    "ransac.fit(np.array([x]),np.array([y]))"
   ]
  },
  {
   "cell_type": "markdown",
   "metadata": {},
   "source": [
    "Finally, to get the fitted line we can use the predict function. As an argument this takes the x values in which the line will be predicted:"
   ]
  },
  {
   "cell_type": "code",
   "execution_count": 6,
   "metadata": {},
   "outputs": [],
   "source": [
    "# Predict line"
   ]
  },
  {
   "cell_type": "markdown",
   "metadata": {},
   "source": [
    "Plot the line on top of the scatterplot from before to see the fit.\n",
    "\n",
    "## Exercise 3.3\n",
    "\n",
    "To see which data points were used to make the line fit and which were deemed outliers, we can use the function ransac.inlier_mask_"
   ]
  },
  {
   "cell_type": "code",
   "execution_count": 7,
   "metadata": {},
   "outputs": [
    {
     "ename": "NameError",
     "evalue": "name 'x' is not defined",
     "output_type": "error",
     "traceback": [
      "\u001b[1;31m---------------------------------------------------------------------------\u001b[0m",
      "\u001b[1;31mNameError\u001b[0m                                 Traceback (most recent call last)",
      "\u001b[1;32mc:\\Users\\test\\git\\Exercises-in-Perception-Group-2\\Week 4\\Exercise 3 - Ranging.ipynb Cell 15'\u001b[0m in \u001b[0;36m<module>\u001b[1;34m\u001b[0m\n\u001b[1;32m----> <a href='vscode-notebook-cell:/c%3A/Users/test/git/Exercises-in-Perception-Group-2/Week%204/Exercise%203%20-%20Ranging.ipynb#ch0000014?line=0'>1</a>\u001b[0m plt\u001b[39m.\u001b[39mscatter(x[ransac\u001b[39m.\u001b[39minlier_mask_], y[ransac\u001b[39m.\u001b[39minlier_mask_], color\u001b[39m=\u001b[39m\u001b[39m'\u001b[39m\u001b[39mgreen\u001b[39m\u001b[39m'\u001b[39m)\n",
      "\u001b[1;31mNameError\u001b[0m: name 'x' is not defined"
     ]
    }
   ],
   "source": [
    "plt.scatter(x[ransac.inlier_mask_], y[ransac.inlier_mask_], color='green')"
   ]
  },
  {
   "cell_type": "markdown",
   "metadata": {},
   "source": [
    "Find the second hallway wall using another Ransac fit and plot it together with the data points and the first ransac fit.\n",
    "\n",
    "Hint: Use the outliers from the first Ransac."
   ]
  },
  {
   "cell_type": "code",
   "execution_count": null,
   "metadata": {},
   "outputs": [],
   "source": [
    "ransac2 = linear_model.RANSACRegressor()\n",
    "\n",
    "# Find the second hallway wall"
   ]
  }
 ],
 "metadata": {
  "kernelspec": {
   "display_name": "Python 3",
   "language": "python",
   "name": "python3"
  },
  "language_info": {
   "codemirror_mode": {
    "name": "ipython",
    "version": 3
   },
   "file_extension": ".py",
   "mimetype": "text/x-python",
   "name": "python",
   "nbconvert_exporter": "python",
   "pygments_lexer": "ipython3",
   "version": "3.9.7"
  }
 },
 "nbformat": 4,
 "nbformat_minor": 2
}
