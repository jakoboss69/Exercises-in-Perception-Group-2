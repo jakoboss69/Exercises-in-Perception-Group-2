{
 "cells": [
  {
   "cell_type": "markdown",
   "metadata": {},
   "source": [
    "# Weekly project part 1\n",
    "    Using the image \"appletree.jpg\"\n",
    "    A) Can you segment the apples from the tree?\n",
    "    B) Can you get the computer to count how many there are? \n",
    "        How close can you get there are 26.\n",
    "    C) Can you change color of one of them?\n",
    "    D) Can you segment the leaves?"
   ]
  },
  {
   "cell_type": "code",
   "execution_count": 1,
   "metadata": {},
   "outputs": [
    {
     "name": "stdout",
     "output_type": "stream",
     "text": [
      "Requirement already satisfied: imutils in c:\\programdata\\miniconda3\\envs\\percep\\lib\\site-packages (0.5.4)\n"
     ]
    }
   ],
   "source": [
    "import cv2\n",
    "import numpy as np\n",
    "from matplotlib import pyplot as plt\n",
    "!pip install imutils\n",
    "import imutils "
   ]
  },
  {
   "cell_type": "code",
   "execution_count": 65,
   "metadata": {},
   "outputs": [
    {
     "name": "stdout",
     "output_type": "stream",
     "text": [
      "width=1600, height=1200, depth=3\n"
     ]
    },
    {
     "data": {
      "text/plain": [
       "<matplotlib.image.AxesImage at 0x1f7c960fe50>"
      ]
     },
     "execution_count": 65,
     "metadata": {},
     "output_type": "execute_result"
    },
    {
     "data": {
      "image/png": "[encoded data removed]",
      "text/plain": [
       "<Figure size 432x288 with 1 Axes>"
      ]
     },
     "metadata": {
      "needs_background": "light"
     },
     "output_type": "display_data"
    }
   ],
   "source": [
    "#a)\n",
    "bgr_img = cv2.imread(\"appletree.jpg\")\n",
    "b,g,r = cv2.split(bgr_img)       # get b,g,r\n",
    "image = cv2.merge([r,g,b])\n",
    "(h, w, d) = image.shape\n",
    "print(\"width={}, height={}, depth={}\".format(w, h, d))\n",
    "# plt.imshow(image)\n",
    "\n",
    "\n",
    "hsv = cv2.cvtColor(image, cv2.COLOR_RGB2HSV)\n",
    "\n",
    "output = cv2.inRange(hsv, (0, 100, 150), (10, 255, 255)) \n",
    "# output = cv2.erode(output, None, iterations = 5)\n",
    "# output = cv2.dilate(output, None, iterations = 5)\n",
    "\n",
    "# output = cv2.bitwise_and(output_blk, output_blk, mask=cv2.bitwise_not(output))\n",
    "plt.imshow(output, cmap='gray')\n",
    "\n",
    "# channel = np.zeros_like(image)\n",
    "# channel = image[:,:,0] - image[:,:,1] - image[:,:,2]\n",
    "\n",
    "# thresh = cv2.threshold(channel, 80, 255, cv2.THRESH_BINARY_INV)[1]\n",
    "# thresh2= cv2.adaptiveThreshold(channel,255, cv2.ADAPTIVE_THRESH_GAUSSIAN_C, cv2.THRESH_BINARY,5,40)\n",
    "# plt.imshow(thresh2, cmap='gray')\n",
    "\n",
    "# cnts = cv2.findContours(thresh.copy(), cv2.RETR_EXTERNAL, cv2.CHAIN_APPROX_SIMPLE)\n",
    "# cnts = imutils.grab_contours(cnts)\n",
    "# len(cnts)"
   ]
  },
  {
   "cell_type": "markdown",
   "metadata": {},
   "source": [
    "# Weekly project part 2\n",
    "    A) Remove the greenscreen and replace the background in \"itssp.png\"?\n",
    "    B) Can improve the edge with erroding/dialating?"
   ]
  },
  {
   "cell_type": "code",
   "execution_count": null,
   "metadata": {},
   "outputs": [],
   "source": []
  }
 ],
 "metadata": {
  "kernelspec": {
   "display_name": "Python 3",
   "language": "python",
   "name": "python3"
  },
  "language_info": {
   "codemirror_mode": {
    "name": "ipython",
    "version": 3
   },
   "file_extension": ".py",
   "mimetype": "text/x-python",
   "name": "python",
   "nbconvert_exporter": "python",
   "pygments_lexer": "ipython3",
   "version": "3.8.12"
  }
 },
 "nbformat": 4,
 "nbformat_minor": 4
}
