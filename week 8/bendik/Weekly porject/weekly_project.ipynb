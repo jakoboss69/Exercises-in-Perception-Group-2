{
  "cells": [
    {
      "cell_type": "markdown",
      "metadata": {
        "id": "Xzcb9c9DB-tM"
      },
      "source": [
        "# Weekly project\n",
        "This weeks weekly project is a continuation of last weeks exercises.\n",
        "\n",
        "You are to make a handwritten number classifier. Where we will be using the [mnist dataset](https://en.wikipedia.org/wiki/MNIST_database).\n",
        "\n",
        "![image.png](attachment:image.png)\n",
        "\n",
        "**Create a program that given an image from the mnist dataset.**\n",
        "- You are free to use any algorithm you want to achieve this.\n",
        "- It should be able to given a number classify what number it is.\n",
        "- Accuracy should at least be 80%\n",
        "\n",
        "If you decide to use a svm make sure you also use dimensionality reduction. SVM of the full mnist dataset will take around 4-8 hours depending on your pc.\n",
        "\n",
        "\n",
        "\n",
        "**Challange:**\n",
        "- Try to reach 98% accuracy.\n",
        "- Try to classify faces with the labeled wild faces dataset [lwf](http://vis-www.cs.umass.edu/lfw/)\n",
        "```{Python}\n",
        "from sklearn.datasets import fetch_lfw_people\n",
        "lfw_people = fetch_lfw_people(min_faces_per_person=70, resize=0.4)\n",
        "```"
      ]
    },
    {
      "cell_type": "code",
      "execution_count": 14,
      "metadata": {
        "id": "jnbw6rdgB-tW"
      },
      "outputs": [],
      "source": [
        "import matplotlib.pyplot as plt\n",
        "import numpy as np\n",
        "import time\n",
        "import datetime as dt\n",
        "from sklearn.decomposition import PCA\n",
        "from sklearn import datasets, svm, metrics\n",
        "from sklearn.datasets import fetch_openml\n",
        "\n",
        "import ssl\n",
        "# ssl._create_default_https_context = ssl._create_unverified_context\n",
        "# mnist = fetch_openml('mnist_784', version=1)\n",
        "\n",
        "# images = mnist.data.to_numpy()\n",
        "# targets = mnist.target.to_numpy()\n",
        "\n",
        "# print(images.shape)\n",
        "# print(targets.shape)"
      ]
    },
    {
      "cell_type": "code",
      "execution_count": 15,
      "metadata": {
        "id": "r038ETYIB-tY"
      },
      "outputs": [],
      "source": [
        "# def show_some_digits(images, targets, sample_size=24, title_text='Digit {}' ):\n",
        "#     '''\n",
        "#     Visualize random digits in a grid plot\n",
        "#     images - array of flatten gidigs [:,784]\n",
        "#     targets - final labels\n",
        "#     '''\n",
        "#     nsamples=sample_size\n",
        "#     rand_idx = np.random.choice(images.shape[0], nsamples)\n",
        "#     images_and_labels = list(zip(images[rand_idx], targets[rand_idx]))\n",
        "\n",
        "\n",
        "#     img = plt.figure(1, figsize=(10, 5), dpi=160)\n",
        "#     for index, (image, label) in enumerate(images_and_labels):\n",
        "#         plt.subplot(np.ceil(nsamples/6.0), 6, index + 1)\n",
        "#         plt.axis('off')\n",
        "#         #each image is flat, we have to reshape to 2D array 28x28-784\n",
        "#         plt.imshow(image.reshape(28,28), cmap=plt.cm.gray_r, interpolation='nearest')\n",
        "#         plt.title(title_text.format(label))\n",
        "#     plt.show()\n",
        "\n",
        "# # draw 12 images along with their labels\n",
        "# show_some_digits(images, targets, 12)"
      ]
    },
    {
      "cell_type": "code",
      "execution_count": 16,
      "metadata": {
        "id": "wGrH9zLBB-ta"
      },
      "outputs": [],
      "source": [
        "import torch\n",
        "import torchvision\n",
        "import torchvision.transforms as transforms"
      ]
    },
    {
      "cell_type": "code",
      "source": [
        "transform = transforms.Compose(\n",
        "    [transforms.ToTensor()])\n",
        "    #  transforms.Normalize((0.5, 0.5, 0.5), (0.5, 0.5, 0.5))])\n",
        "\n",
        "batch_size = 4\n",
        "\n",
        "trainset = torchvision.datasets.MNIST(root='./data', train=True,\n",
        "                                        download=True, transform=transform)\n",
        "trainloader = torch.utils.data.DataLoader(trainset, batch_size=batch_size,\n",
        "                                          shuffle=True, num_workers=2)\n",
        "\n",
        "testset = torchvision.datasets.MNIST(root='./data', train=False,\n",
        "                                       download=True, transform=transform)\n",
        "testloader = torch.utils.data.DataLoader(testset, batch_size=batch_size,\n",
        "                                         shuffle=False, num_workers=2)\n",
        "\n",
        "# classes = ('plane', 'car', 'bird', 'cat',\n",
        "#            'deer', 'dog', 'frog', 'horse', 'ship', 'truck')"
      ],
      "metadata": {
        "id": "zfOdnHadCgVe"
      },
      "execution_count": 17,
      "outputs": []
    },
    {
      "cell_type": "code",
      "source": [
        "import matplotlib.pyplot as plt\n",
        "import numpy as np\n",
        "\n",
        "# functions to show an image\n",
        "\n",
        "\n",
        "def imshow(img):\n",
        "    img = img / 2 + 0.5     # unnormalize\n",
        "    npimg = img.numpy()\n",
        "    plt.imshow(np.transpose(npimg, (1, 2, 0)))\n",
        "    plt.show()\n",
        "\n",
        "\n",
        "# get some random training images\n",
        "dataiter = iter(trainloader)\n",
        "images, labels = dataiter.next()\n",
        "\n",
        "# show images\n",
        "imshow(torchvision.utils.make_grid(images))\n",
        "# print labels\n",
        "# print(' '.join(f'{classes[labels[j]]:5s}' for j in range(batch_size)))"
      ],
      "metadata": {
        "id": "UxzPHLbpD5Wd",
        "outputId": "f151220e-ef5d-43b3-a3a9-81efa6c63045",
        "colab": {
          "base_uri": "https://localhost:8080/",
          "height": 138
        }
      },
      "execution_count": 18,
      "outputs": [
        {
          "output_type": "display_data",
          "data": {
            "text/plain": [
              "<Figure size 432x288 with 1 Axes>"
            ],
            "image/png": "[encoded data removed]"
          },
          "metadata": {
            "needs_background": "light"
          }
        }
      ]
    },
    {
      "cell_type": "code",
      "source": [
        "import torch.nn as nn\n",
        "import torch.nn.functional as F\n",
        "import torch.optim as optim\n",
        "device = torch.device('cuda' if torch.cuda.is_available() else 'cpu')\n",
        "device"
      ],
      "metadata": {
        "id": "cJpGj4fkCuSt",
        "outputId": "bc71c164-3094-49c1-ba9d-91d3f998ce08",
        "colab": {
          "base_uri": "https://localhost:8080/"
        }
      },
      "execution_count": 25,
      "outputs": [
        {
          "output_type": "execute_result",
          "data": {
            "text/plain": [
              "device(type='cuda')"
            ]
          },
          "metadata": {},
          "execution_count": 25
        }
      ]
    },
    {
      "cell_type": "code",
      "source": [
        "class Net(nn.Module):\n",
        "    def __init__(self):\n",
        "        super().__init__()\n",
        "        self.conv1 = nn.Conv2d(in_channels= 1, out_channels= 6, kernel_size= 3, padding=1)\n",
        "        # self.pool = nn.MaxPool2d(3, 3, 1)\n",
        "        self.conv2 = nn.Conv2d(in_channels= 6, out_channels= 16, kernel_size= 3, padding=1)\n",
        "        self.fc1 = nn.Linear(16*28*28, 256)\n",
        "        self.fc2 = nn.Linear(256, 64)\n",
        "        self.fc3 = nn.Linear(64, 10)\n",
        "\n",
        "    def forward(self, x):\n",
        "        x = F.relu(self.conv1(x))\n",
        "        x = F.relu(self.conv2(x))\n",
        "        x = torch.flatten(x, 1) # flatten all dimensions except batch\n",
        "        x = F.relu(self.fc1(x))\n",
        "        x = F.relu(self.fc2(x))\n",
        "        x = self.fc3(x)\n",
        "        return x\n",
        "\n",
        "\n",
        "net = Net()\n",
        "net.to(device)"
      ],
      "metadata": {
        "id": "-AOgWTe4C5Yq",
        "outputId": "a6d3a9e2-5b96-4384-ca71-c9a9831ef77e",
        "colab": {
          "base_uri": "https://localhost:8080/"
        }
      },
      "execution_count": 48,
      "outputs": [
        {
          "output_type": "execute_result",
          "data": {
            "text/plain": [
              "Net(\n",
              "  (conv1): Conv2d(1, 6, kernel_size=(3, 3), stride=(1, 1), padding=(1, 1))\n",
              "  (conv2): Conv2d(6, 16, kernel_size=(3, 3), stride=(1, 1), padding=(1, 1))\n",
              "  (fc1): Linear(in_features=12544, out_features=256, bias=True)\n",
              "  (fc2): Linear(in_features=256, out_features=64, bias=True)\n",
              "  (fc3): Linear(in_features=64, out_features=10, bias=True)\n",
              ")"
            ]
          },
          "metadata": {},
          "execution_count": 48
        }
      ]
    },
    {
      "cell_type": "code",
      "source": [
        "criterion = nn.CrossEntropyLoss()\n",
        "optimizer = optim.SGD(net.parameters(), lr=0.001, momentum=0.9)"
      ],
      "metadata": {
        "id": "rS6rdmXuDJ6E"
      },
      "execution_count": 49,
      "outputs": []
    },
    {
      "cell_type": "code",
      "source": [
        "for epoch in range(2):  # loop over the dataset multiple times\n",
        "\n",
        "    running_loss = 0.0\n",
        "    for i, data in enumerate(trainloader, 0):\n",
        "        # get the inputs; data is a list of [inputs, labels]\n",
        "        inputs, labels = data[0].to(device), data[1].to(device)\n",
        "\n",
        "        # zero the parameter gradients\n",
        "        optimizer.zero_grad()\n",
        "        # print(inputs.size())\n",
        "        # forward + backward + optimize\n",
        "        outputs = net(inputs)\n",
        "        loss = criterion(outputs, labels)\n",
        "        loss.backward()\n",
        "        optimizer.step()\n",
        "\n",
        "        # print statistics\n",
        "        running_loss += loss.item()\n",
        "        if i % 2000 == 1999:    # print every 2000 mini-batches\n",
        "            print(f'[{epoch + 1}, {i + 1:5d}] loss: {running_loss / 2000:.3f}')\n",
        "            running_loss = 0.0\n",
        "\n",
        "print('Finished Training')"
      ],
      "metadata": {
        "id": "vgM7dfQ4DSkh",
        "outputId": "29c49ce3-7693-4ff7-aec1-20b63ac86005",
        "colab": {
          "base_uri": "https://localhost:8080/"
        }
      },
      "execution_count": 51,
      "outputs": [
        {
          "output_type": "stream",
          "name": "stdout",
          "text": [
            "[1,  2000] loss: 0.379\n",
            "[1,  4000] loss: 0.250\n",
            "[1,  6000] loss: 0.193\n",
            "[1,  8000] loss: 0.161\n",
            "[1, 10000] loss: 0.137\n",
            "[1, 12000] loss: 0.117\n",
            "[1, 14000] loss: 0.108\n",
            "[2,  2000] loss: 0.087\n",
            "[2,  4000] loss: 0.087\n",
            "[2,  6000] loss: 0.080\n",
            "[2,  8000] loss: 0.076\n",
            "[2, 10000] loss: 0.077\n",
            "[2, 12000] loss: 0.062\n",
            "[2, 14000] loss: 0.057\n",
            "Finished Training\n"
          ]
        }
      ]
    },
    {
      "cell_type": "code",
      "source": [
        "correct = 0\n",
        "total = 0\n",
        "# since we're not training, we don't need to calculate the gradients for our outputs\n",
        "with torch.no_grad():\n",
        "    for data in testloader:\n",
        "        images, labels = data[0].to(device), data[1].to(device)\n",
        "        # calculate outputs by running images through the network\n",
        "        outputs = net(images)\n",
        "        # the class with the highest energy is what we choose as prediction\n",
        "        _, predicted = torch.max(outputs.data, 1)\n",
        "        total += labels.size(0)\n",
        "        correct += (predicted == labels).sum().item()\n",
        "\n",
        "print(f'Accuracy of the network on the 10000 test images: {100 * correct // total} %')"
      ],
      "metadata": {
        "id": "uw7Sqq16Gg9J",
        "outputId": "f65bf20b-6970-43c7-96d7-fc11e54d1caa",
        "colab": {
          "base_uri": "https://localhost:8080/"
        }
      },
      "execution_count": 53,
      "outputs": [
        {
          "output_type": "stream",
          "name": "stdout",
          "text": [
            "Accuracy of the network on the 10000 test images: 98 %\n"
          ]
        }
      ]
    },
    {
      "cell_type": "code",
      "source": [
        "from torchsummary import summary\n",
        "summary(net, (1,28,28))"
      ],
      "metadata": {
        "id": "WwNcdeJvNCHV",
        "outputId": "d8faeefa-5cab-42bf-ec18-a6c4a3700085",
        "colab": {
          "base_uri": "https://localhost:8080/"
        }
      },
      "execution_count": 59,
      "outputs": [
        {
          "output_type": "stream",
          "name": "stdout",
          "text": [
            "----------------------------------------------------------------\n",
            "        Layer (type)               Output Shape         Param #\n",
            "================================================================\n",
            "            Conv2d-1            [-1, 6, 28, 28]              60\n",
            "            Conv2d-2           [-1, 16, 28, 28]             880\n",
            "            Linear-3                  [-1, 256]       3,211,520\n",
            "            Linear-4                   [-1, 64]          16,448\n",
            "            Linear-5                   [-1, 10]             650\n",
            "================================================================\n",
            "Total params: 3,229,558\n",
            "Trainable params: 3,229,558\n",
            "Non-trainable params: 0\n",
            "----------------------------------------------------------------\n",
            "Input size (MB): 0.00\n",
            "Forward/backward pass size (MB): 0.13\n",
            "Params size (MB): 12.32\n",
            "Estimated Total Size (MB): 12.46\n",
            "----------------------------------------------------------------\n"
          ]
        }
      ]
    }
  ],
  "metadata": {
    "kernelspec": {
      "display_name": "Python 3",
      "language": "python",
      "name": "python3"
    },
    "language_info": {
      "codemirror_mode": {
        "name": "ipython",
        "version": 3
      },
      "file_extension": ".py",
      "mimetype": "text/x-python",
      "name": "python",
      "nbconvert_exporter": "python",
      "pygments_lexer": "ipython3",
      "version": "3.6.12"
    },
    "toc": {
      "base_numbering": 1,
      "nav_menu": {},
      "number_sections": true,
      "sideBar": true,
      "skip_h1_title": false,
      "title_cell": "Table of Contents",
      "title_sidebar": "Contents",
      "toc_cell": false,
      "toc_position": {},
      "toc_section_display": true,
      "toc_window_display": false
    },
    "varInspector": {
      "cols": {
        "lenName": 16,
        "lenType": 16,
        "lenVar": 40
      },
      "kernels_config": {
        "python": {
          "delete_cmd_postfix": "",
          "delete_cmd_prefix": "del ",
          "library": "var_list.py",
          "varRefreshCmd": "print(var_dic_list())"
        },
        "r": {
          "delete_cmd_postfix": ") ",
          "delete_cmd_prefix": "rm(",
          "library": "var_list.r",
          "varRefreshCmd": "cat(var_dic_list()) "
        }
      },
      "position": {
        "height": "516.85px",
        "left": "1964px",
        "right": "20px",
        "top": "119px",
        "width": "502px"
      },
      "types_to_exclude": [
        "module",
        "function",
        "builtin_function_or_method",
        "instance",
        "_Feature"
      ],
      "window_display": false
    },
    "colab": {
      "name": "weekly_project.ipynb",
      "provenance": []
    },
    "accelerator": "GPU"
  },
  "nbformat": 4,
  "nbformat_minor": 0
}