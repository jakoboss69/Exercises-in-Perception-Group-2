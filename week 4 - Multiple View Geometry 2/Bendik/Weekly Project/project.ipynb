{
 "cells": [
  {
   "cell_type": "code",
   "execution_count": 2,
   "metadata": {},
   "outputs": [],
   "source": [
    "import numpy as np\n"
   ]
  },
  {
   "cell_type": "code",
   "execution_count": 8,
   "metadata": {},
   "outputs": [
    {
     "data": {
      "text/plain": [
       "800"
      ]
     },
     "execution_count": 8,
     "metadata": {},
     "output_type": "execute_result"
    }
   ],
   "source": [
    "# Mini quiz\n",
    "# 1 camera projection\n",
    "R = np.array([[1, 0, 0], [0, 1, 0], [0, 0, 1]])\n",
    "cameraMat = np.array([[725, 0, 631], [0, 726, 360], [0, 0, 1]])\n",
    "cameraCoor = np.array([1,1,4, 1]).T\n",
    "\n",
    "Rmarked = np.concatenate((R, np.zeros((3,1))), axis=1)\n",
    "\n",
    "point = cameraMat@Rmarked@cameraCoor\n",
    "point /= point[2]\n",
    "point\n",
    "\n",
    "# 7\n",
    "# Calculate the dissimilarity between two images, using sum of squared differences\n",
    "A = np.array([[10, 15, 20], [20, 20, 25], [10, 15, 20]])\n",
    "B = np.array([[15, 15, 15], [20, 20, 20], [30, 30, 30]])\n",
    "sum = np.sum(np.square(A-B))\n",
    "sum\n",
    "\n"
   ]
  },
  {
   "cell_type": "code",
   "execution_count": null,
   "metadata": {},
   "outputs": [],
   "source": []
  }
 ],
 "metadata": {
  "interpreter": {
   "hash": "fd63771e9f8bfc6b11ae7e872054b6fc5d3f9686103bde3487fad9ddbe0d7624"
  },
  "kernelspec": {
   "display_name": "Python 3.8.12 ('percep')",
   "language": "python",
   "name": "python3"
  },
  "language_info": {
   "codemirror_mode": {
    "name": "ipython",
    "version": 3
   },
   "file_extension": ".py",
   "mimetype": "text/x-python",
   "name": "python",
   "nbconvert_exporter": "python",
   "pygments_lexer": "ipython3",
   "version": "3.8.12"
  },
  "orig_nbformat": 4
 },
 "nbformat": 4,
 "nbformat_minor": 2
}
