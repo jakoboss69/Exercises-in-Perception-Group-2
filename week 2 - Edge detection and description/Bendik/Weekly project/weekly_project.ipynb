{
 "cells": [
  {
   "cell_type": "code",
   "execution_count": null,
   "metadata": {},
   "outputs": [],
   "source": [
    "import cv2\n",
    "import numpy as np\n",
    "from matplotlib import pyplot as plt"
   ]
  },
  {
   "cell_type": "markdown",
   "metadata": {},
   "source": [
    "## Sparse optical flow"
   ]
  },
  {
   "cell_type": "code",
   "execution_count": null,
   "metadata": {},
   "outputs": [],
   "source": [
    "cap = cv2.VideoCapture('Robots.mp4')\n",
    "\n",
    "ret, prev_frame = cap.read() \n",
    "point_list = []\n",
    "\n",
    "while ret:\n",
    "    ret, current_frame = cap.read()\n",
    "    current_frame_gray = cv2.cvtColor(current_frame, cv2.COLOR_BGR2GRAY)\n",
    "    current_frame_feat1 = cv2.goodFeaturesToTrack(current_frame_gray, maxCorners=100, qualityLevel=0.3, minDistance=7)\n",
    "\n",
    "    prev_frame_gray = cv2.cvtColor(prev_frame, cv2.COLOR_BGR2GRAY)\n",
    "    prev_frame_feat1 = cv2.goodFeaturesToTrack(prev_frame_gray, maxCorners=100, qualityLevel=0.3, minDistance=7)\n",
    "\n",
    "\n",
    "    current_frame_feat2, status, error = cv2.calcOpticalFlowPyrLK(prev_frame, current_frame, prev_frame_feat1, current_frame_feat1)\n",
    "    print(current_frame_feat2)\n",
    "    for i in range(len(current_frame_feat1)):\n",
    "        f1x=int(prev_frame_feat1[i][0][0])\n",
    "        f1y=int(prev_frame_feat1[i][0][1])\n",
    "        f2x=int(current_frame_feat2[i][0][0])\n",
    "        f2y=int(current_frame_feat2[i][0][1])\n",
    "        point_list.append([(f1x,f1y), (f2x,f2y)])\n",
    "        cv2.line(current_frame, (f1x, f1y), (f2x, f2y), (0, 0, 255), 3, lineType=-1)\n",
    "        # cv2.line(current_frame, (f10,f11), (f20, f21), (0, 255, 0), 2)\n",
    "        # cv2.circle(current_frame, (f10, f11), 5, (0, 255, 0), -1)\n",
    "        # cv2.line(current_frame, point_list[0][0], point_list[-1][1], (0, 0, 255), 3, lineType=-1)\n",
    "\n",
    "    # for point in point_list:\n",
    "\n",
    "    if ret == False:\n",
    "        break\n",
    "    cv2.imshow('frame', current_frame)\n",
    "    cv2.waitKey(5)\n",
    "\n",
    "    prev_frame = current_frame\n",
    "\n",
    "\n",
    "cap.release()\n",
    "cv2.destroyAllWindows()"
   ]
  },
  {
   "cell_type": "markdown",
   "metadata": {},
   "source": [
    "## Dense optical flow"
   ]
  },
  {
   "cell_type": "code",
   "execution_count": null,
   "metadata": {},
   "outputs": [],
   "source": [
    "mag, ang = cv2.cartToPolar(flow[:,:,0], flow[:,:,1]) # Retrieving the magnitude and angle of every pixel\n",
    "\n",
    "### Fill in some code to represent the flow here ###\n",
    "mask = np.zeros_like(img2)\n",
    "  \n",
    "# Sets image saturation to maximum\n",
    "mask[..., 1] = 255\n",
    "# Sets image hue according to the optical flow direction\n",
    "mask[..., 0] = ang * 180 / np.pi / 2\n",
    "      \n",
    "# Sets image value according to the optical flow magnitude (normalized)\n",
    "mask[..., 2] = cv2.normalize(mag, None, 0, 255, cv2.NORM_MINMAX)\n",
    "      \n",
    "# Converts HSV to RGB (BGR) color representation\n",
    "rgb = cv2.cvtColor(mask, cv2.COLOR_HSV2BGR)\n",
    "      \n",
    "# Opens a new window and displays the output frame\n",
    "plt.imshow(rgb)"
   ]
  }
 ],
 "metadata": {
  "interpreter": {
   "hash": "fd63771e9f8bfc6b11ae7e872054b6fc5d3f9686103bde3487fad9ddbe0d7624"
  },
  "kernelspec": {
   "display_name": "Python 3.8.12 ('percep')",
   "language": "python",
   "name": "python3"
  },
  "language_info": {
   "codemirror_mode": {
    "name": "ipython",
    "version": 3
   },
   "file_extension": ".py",
   "mimetype": "text/x-python",
   "name": "python",
   "nbconvert_exporter": "python",
   "pygments_lexer": "ipython3",
   "version": "3.8.12"
  },
  "orig_nbformat": 4
 },
 "nbformat": 4,
 "nbformat_minor": 2
}
