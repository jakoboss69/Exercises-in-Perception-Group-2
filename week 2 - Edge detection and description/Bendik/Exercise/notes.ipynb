{
 "cells": [
  {
   "cell_type": "code",
   "execution_count": null,
   "metadata": {},
   "outputs": [],
   "source": []
  }
 ],
 "metadata": {
  "interpreter": {
   "hash": "7885a99f976b341d45cda4e6ec2d0b54e6b1012a99274fd30a6de154d341346b"
  },
  "kernelspec": {
   "display_name": "Python 3.6.12 64-bit ('tdt4265': conda)",
   "language": "python",
   "name": "python3"
  },
  "language_info": {
   "name": "python",
   "version": "3.8.12"
  },
  "orig_nbformat": 4
 },
 "nbformat": 4,
 "nbformat_minor": 2
}
