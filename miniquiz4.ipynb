{
 "cells": [
  {
   "cell_type": "code",
   "execution_count": 2,
   "metadata": {},
   "outputs": [],
   "source": [
    "import numpy as np\n",
    "import cv2"
   ]
  },
  {
   "cell_type": "code",
   "execution_count": 28,
   "metadata": {},
   "outputs": [
    {
     "data": {
      "text/plain": [
       "array([-0.31079203,  0.01065308,  1.        ])"
      ]
     },
     "execution_count": 28,
     "metadata": {},
     "output_type": "execute_result"
    }
   ],
   "source": [
    "rvec = np.array([[-0.05, -1.51, -0.00]])\n",
    "tvec = np.array([[87.39, -2.25, -24.89]])\n",
    "\n",
    "P = np.array([[-6.71, 0.23, 21.59]])\n",
    "\n",
    "R, _ = cv2.Rodrigues(rvec)\n",
    "\n",
    "Rt = np.hstack((R,tvec.T))\n",
    "\n",
    "Rt.round(2)\n",
    "\n",
    "l = P[0]\n",
    "\n",
    "l[:3] / l[-1]\n"
   ]
  }
 ],
 "metadata": {
  "interpreter": {
   "hash": "1c2c1987fb9712f1bc860e1803b03a41c1ea32a5dacfbff5da033c8473508edf"
  },
  "kernelspec": {
   "display_name": "Python 3.9.7 ('percep')",
   "language": "python",
   "name": "python3"
  },
  "language_info": {
   "codemirror_mode": {
    "name": "ipython",
    "version": 3
   },
   "file_extension": ".py",
   "mimetype": "text/x-python",
   "name": "python",
   "nbconvert_exporter": "python",
   "pygments_lexer": "ipython3",
   "version": "3.9.7"
  },
  "orig_nbformat": 4
 },
 "nbformat": 4,
 "nbformat_minor": 2
}
